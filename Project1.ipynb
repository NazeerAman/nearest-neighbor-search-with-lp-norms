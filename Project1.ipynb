{
 "cells": [
  {
   "cell_type": "markdown",
   "id": "bb51d8a2-1b29-4055-b352-ed9de09498be",
   "metadata": {},
   "source": [
    "# Project-1\n",
    "The nearest neighbor classifier requires finding nearest neighbor using distance metrics (known \n",
    "as 𝑙𝑝norms). You are required to write a python function that takes two arrays (2D vectors) as \n",
    "input, and find nearest of each Array 1 data point in Array 2. More specifically:\n",
    " The function should calculate distance of one data point of Array1, with all data points \n",
    "of Array 2, and find its nearest in Array 2. \n",
    " This should be repeated for all points of Array 1.\n",
    " The function should also take norm identifier (as 1,2,or ∞) as input, and select the \n",
    "distance metric accordingly.\n",
    " The function should return an array containing pairs of data points which are closest.\n"
   ]
  },
  {
   "cell_type": "code",
   "execution_count": 137,
   "id": "4b2e8e16-2fb3-4575-8c09-45cab98a8074",
   "metadata": {},
   "outputs": [],
   "source": [
    "import numpy as np\n",
    "\n",
    "def calculate_distance(p1, p2, norm):\n",
    "    \"Calculate the distance between two vectors x and y based on the given norm.\"\n",
    "    if norm == 1:\n",
    "        return np.sum(np.abs(p1 - p2))\n",
    "    elif norm == 2:\n",
    "        return np.sqrt(np.sum((p1 - p2) ** 2))\n",
    "    elif norm == np.inf:\n",
    "        return np.max(np.abs(p1 - p2))\n",
    "    else:\n",
    "        raise ValueError(\"Invalid norm specified. Use 1, 2, or np.inf.\")\n",
    "\n",
    "def nearest_neighbors(array1, array2, norm):\n",
    "    array1 = np.array(array1)\n",
    "    array2 = np.array(array2)   \n",
    "    nearest_pairs = []\n",
    "    for point1 in array1:\n",
    "        distances = [calculate_distance(point1, point2, norm) for point2 in array2]\n",
    "        print(f\"Distances from point {point1} to all points in array2: {distances}\")\n",
    "        nearest_index = np.argmin(distances)\n",
    "        nearest_point2 = array2[nearest_index]\n",
    "        nearest_pairs.append((point1, nearest_point2))\n",
    "    return nearest_pairs"
   ]
  },
  {
   "cell_type": "code",
   "execution_count": 135,
   "id": "7b2cd903-00a5-46cf-9694-c04a703ce0c7",
   "metadata": {},
   "outputs": [
    {
     "name": "stdout",
     "output_type": "stream",
     "text": [
      "\n",
      "Testing with norm = 1\n",
      "Distances from point [8 2] to all points in array2: [4, 12, 4]\n",
      "Distances from point [ 0 11] to all points in array2: [15, 5, 13]\n",
      "Distances from point [10  6] to all points in array2: [10, 10, 6]\n",
      "\n",
      "Testing with norm = 2\n",
      "Distances from point [8 2] to all points in array2: [3.1622776601683795, 8.94427190999916, 2.8284271247461903]\n",
      "Distances from point [ 0 11] to all points in array2: [11.180339887498949, 4.123105625617661, 9.219544457292887]\n",
      "Distances from point [10  6] to all points in array2: [7.0710678118654755, 7.211102550927978, 4.47213595499958]\n",
      "\n",
      "Testing with norm = inf\n",
      "Distances from point [8 2] to all points in array2: [3, 8, 2]\n",
      "Distances from point [ 0 11] to all points in array2: [10, 4, 7]\n",
      "Distances from point [10  6] to all points in array2: [5, 6, 4]\n",
      "\n",
      "Closest points pairs:\n",
      "(array([8, 2]), array([6, 4]))\n",
      "(array([ 0, 11]), array([ 4, 10]))\n",
      "(array([10,  6]), array([6, 4]))\n"
     ]
    }
   ],
   "source": [
    "array1 = np.array([[8, 2], [0, 11], [10, 6]])\n",
    "array2 = np.array([[5, 1], [4, 10], [6, 4]])\n",
    "\n",
    "for norm in [1, 2, np.inf]:\n",
    "    print(f\"\\nTesting with norm = {norm}\")\n",
    "    result = nearest_neighbors(array1, array2, norm)\n",
    "print(\"\\nClosest points pairs:\")\n",
    "for pairs in result:\n",
    "    print(pairs)"
   ]
  },
  {
   "cell_type": "markdown",
   "id": "045d5da8-1f97-4bcd-8d5f-86782c942c10",
   "metadata": {},
   "source": [
    "# visualization of data points and shortest distance between two points\n"
   ]
  },
  {
   "cell_type": "code",
   "execution_count": 136,
   "id": "92e9460f-38bc-43b8-bbd1-a8ab4291f1df",
   "metadata": {},
   "outputs": [
    {
     "data": {
      "image/png": "[encoded data removed]",
      "text/plain": [
       "<Figure size 640x480 with 1 Axes>"
      ]
     },
     "metadata": {},
     "output_type": "display_data"
    }
   ],
   "source": [
    "import matplotlib.pyplot as plt\n",
    "plt.title(\"Shortest distance\")\n",
    "x_array1,y_array1=zip(*array1) #x-asiz,y-asix\n",
    "x_array2,y_array2=zip(*array2) #x-asiz,y-asix\n",
    "plt.scatter(x_array1,y_array1)\n",
    "plt.scatter(x_array2,y_array2,c=\"g\",s=50)\n",
    "\n",
    "x_array1, y_array1 = zip(*array1)\n",
    "x_array2, y_array2 = zip(*array2)\n",
    "\n",
    "plt.scatter(x_array1, y_array1)\n",
    "plt.scatter(x_array2, y_array2, c=\"g\")\n",
    "\n",
    "for i in range(len(result)):\n",
    "    x,y=zip(*result[i])\n",
    "    plt.plot(x, y, color='red', linestyle='--')\n",
    "plt.show()"
   ]
  },
  {
   "cell_type": "code",
   "execution_count": null,
   "id": "efd4bcb0-fde0-4915-9c7b-6537fdb9754e",
   "metadata": {},
   "outputs": [],
   "source": []
  }
 ],
 "metadata": {
  "kernelspec": {
   "display_name": "Python 3 (ipykernel)",
   "language": "python",
   "name": "python3"
  },
  "language_info": {
   "codemirror_mode": {
    "name": "ipython",
    "version": 3
   },
   "file_extension": ".py",
   "mimetype": "text/x-python",
   "name": "python",
   "nbconvert_exporter": "python",
   "pygments_lexer": "ipython3",
   "version": "3.12.4"
  },
  "widgets": {
   "application/vnd.jupyter.widget-state+json": {
    "state": {},
    "version_major": 2,
    "version_minor": 0
   }
  }
 },
 "nbformat": 4,
 "nbformat_minor": 5
}
